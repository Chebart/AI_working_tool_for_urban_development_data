{
 "cells": [
  {
   "cell_type": "code",
   "execution_count": 310,
   "metadata": {},
   "outputs": [],
   "source": [
    "import geopandas as gpd\n",
    "import networkx as nx\n",
    "import numpy as np\n",
    "from libpysal import weights\n",
    "import matplotlib.pyplot as plt\n",
    "import momepy\n",
    "from shapely.geometry import Polygon"
   ]
  },
  {
   "cell_type": "code",
   "execution_count": 311,
   "metadata": {},
   "outputs": [],
   "source": [
    "def convert_polygons_to_centroids(gdf):\n",
    "    gdf[\"polygons\"] = gdf['geometry']\n",
    "    gdf['geometry'] = gdf.geometry.centroid\n",
    "    return gdf"
   ]
  },
  {
   "cell_type": "code",
   "execution_count": 312,
   "metadata": {},
   "outputs": [],
   "source": [
    "def filter_points_based_on_specified_region(gdf, region):\n",
    "    gdf = gdf[gdf.geometry.within(region)]\n",
    "    return gdf"
   ]
  },
  {
   "cell_type": "code",
   "execution_count": 313,
   "metadata": {},
   "outputs": [],
   "source": [
    "def convert_geojsons_with_lines_to_graph(gdf):\n",
    "    G = momepy.gdf_to_nx(gdf, approach=\"primal\", multigraph=False, directed=False)\n",
    "    '''\n",
    "    positions = {n: [n[0], n[1]] for n in list(G.nodes)}\n",
    "    f, ax = plt.subplots(1, 2, figsize=(12, 6), sharex=True, sharey=True)\n",
    "    gdf.plot(color=\"k\", ax=ax[0])\n",
    "    for i, facet in enumerate(ax):\n",
    "        facet.set_title((\"Улицы\", \"Graph\")[i])\n",
    "        facet.axis(\"off\")\n",
    "    nx.draw(G, positions, ax=ax[1], node_size=5)\n",
    "    '''\n",
    "    return G"
   ]
  },
  {
   "cell_type": "code",
   "execution_count": 314,
   "metadata": {},
   "outputs": [],
   "source": [
    "def convert_geojsons_with_polygons_and_points_to_graph(gdf):\n",
    "    coordinates = coordinates = np.column_stack((gdf.geometry.x, gdf.geometry.y))\n",
    "    graph_init = weights.DistanceBand.from_array(coordinates, threshold=0.001)\n",
    "    #graph_init = weights.KNN.from_dataframe(gdf, k=2)\n",
    "    graph = graph_init.to_networkx()\n",
    "    '''\n",
    "    positions = dict(zip(graph.nodes, coordinates))\n",
    "    f, ax = plt.subplots(1, 2, figsize=(12, 6), sharex=True, sharey=True)\n",
    "    if \"polygons\" in gdf:\n",
    "        gdf[\"polygons\"].plot(color=\"k\", ax=ax[0])\n",
    "    else:\n",
    "        gdf.plot(color=\"k\", ax=ax[0])\n",
    "    for i, facet in enumerate(ax):\n",
    "        facet.set_title((\"Строения/остановки\", \"Graph\")[i])\n",
    "        facet.axis(\"off\")\n",
    "    nx.draw(graph, positions, ax=ax[1], node_size=5)\n",
    "    plt.show()\n",
    "    '''\n",
    "    return graph"
   ]
  },
  {
   "cell_type": "code",
   "execution_count": null,
   "metadata": {},
   "outputs": [],
   "source": [
    "def visualise_final_graph(graph, objects_info):\n",
    "    '''\n",
    "    positions = dict(zip(graph.nodes, coordinates))\n",
    "    f, ax = plt.subplots(1, 2, figsize=(12, 6), sharex=True, sharey=True)\n",
    "    objects_info[\"polygons\"].plot(color=\"k\", ax=ax[0])\n",
    "    objects_info[\"points\"].plot(color=\"k\", ax=ax[0])\n",
    "    objects_info[\"lines\"].plot(color=\"k\", ax=ax[0])\n",
    "    for i, facet in enumerate(ax):\n",
    "        facet.set_title((\"Строения/Остановки/Дороги\", \"Итоговый граф\")[i])\n",
    "        facet.axis(\"off\")\n",
    "    nx.draw(graph, positions, ax=ax[1], node_size=5)\n",
    "    plt.show()\n",
    "    '''"
   ]
  },
  {
   "cell_type": "code",
   "execution_count": 315,
   "metadata": {},
   "outputs": [],
   "source": [
    "geojsons_with_polygons = [\"Дома_исходные.geojson\"]#, \"House_1очередь_ЖК.geojson\", \"House_2очередь_ЖК.geojson\", \"House_3очередь_ЖК.geojson\"]\n",
    "geojsons_with_lines = [\"Streets_исходные.geojson\"]#, \"Streets_1очередь.geojson\", \"Streets_2очередь.geojson\", \"Streets_3очередь.geojson\"]\n",
    "geojsons_with_points = [\"Остановки_ОТ.geojson\"]#, \"Выходы_метро.geojson\"]\n",
    "# Обозначим границы региона\n",
    "x_min, y_max = 37.472381, 55.551288 \n",
    "x_max, y_min = 37.500082, 55.539195\n",
    "region = Polygon([(x_min, y_min), (x_max, y_min), (x_max, y_max), (x_min, y_max)])"
   ]
  },
  {
   "cell_type": "code",
   "execution_count": null,
   "metadata": {},
   "outputs": [
    {
     "name": "stderr",
     "output_type": "stream",
     "text": [
      "d:\\vscode\\Kaliningrad_hack_2024\\AI_working_tool_for_urban_development_data\\env\\Lib\\site-packages\\momepy\\utils.py:352: UserWarning: Geometry is in a geographic CRS. Results from 'length' are likely incorrect. Use 'GeoSeries.to_crs()' to re-project geometries to a projected CRS before this operation.\n",
      "\n",
      "  gdf_network[length] = gdf_network.geometry.length\n",
      "C:\\Users\\trans\\AppData\\Local\\Temp\\ipykernel_26496\\1442734587.py:3: UserWarning: Geometry is in a geographic CRS. Results from 'centroid' are likely incorrect. Use 'GeoSeries.to_crs()' to re-project geometries to a projected CRS before this operation.\n",
      "\n",
      "  gdf['geometry'] = gdf.geometry.centroid\n",
      "d:\\vscode\\Kaliningrad_hack_2024\\AI_working_tool_for_urban_development_data\\env\\Lib\\site-packages\\libpysal\\weights\\util.py:826: UserWarning: The weights matrix is not fully connected: \n",
      " There are 17 disconnected components.\n",
      " There are 13 islands with ids: 1, 8, 9, 11, 15, 16, 201, 202, 205, 206, 208, 209, 210.\n",
      "  w = W(neighbors, weights, ids, **kwargs)\n",
      "d:\\vscode\\Kaliningrad_hack_2024\\AI_working_tool_for_urban_development_data\\env\\Lib\\site-packages\\libpysal\\weights\\distance.py:844: UserWarning: The weights matrix is not fully connected: \n",
      " There are 17 disconnected components.\n",
      " There are 13 islands with ids: 1, 8, 9, 11, 15, 16, 201, 202, 205, 206, 208, 209, 210.\n",
      "  W.__init__(\n",
      "d:\\vscode\\Kaliningrad_hack_2024\\AI_working_tool_for_urban_development_data\\env\\Lib\\site-packages\\libpysal\\weights\\util.py:826: UserWarning: The weights matrix is not fully connected: \n",
      " There are 14 disconnected components.\n",
      " There are 13 islands with ids: 0, 1, 2, 3, 4, 5, 6, 7, 8, 9, 10, 13, 14.\n",
      "  w = W(neighbors, weights, ids, **kwargs)\n",
      "d:\\vscode\\Kaliningrad_hack_2024\\AI_working_tool_for_urban_development_data\\env\\Lib\\site-packages\\libpysal\\weights\\distance.py:844: UserWarning: The weights matrix is not fully connected: \n",
      " There are 14 disconnected components.\n",
      " There are 13 islands with ids: 0, 1, 2, 3, 4, 5, 6, 7, 8, 9, 10, 13, 14.\n",
      "  W.__init__(\n"
     ]
    }
   ],
   "source": [
    "graphs = {}\n",
    "objects_info = {\"polygons\": [], \"points\": [], \"lines\": []}\n",
    "\n",
    "for idx, file in enumerate(geojsons_with_points):\n",
    "    gdf = gpd.read_file(f\"./data/vector_data/{file}\") \n",
    "    gdf[\"geometry\"] = gdf[\"geometry\"].to_crs(\"EPSG:4326\")\n",
    "    # Оставили точки из нужного региона\n",
    "    gdf = filter_points_based_on_specified_region(gdf, region)\n",
    "    graphs[f\"p{idx+1}\"] = convert_geojsons_with_polygons_and_points_to_graph(gdf)\n",
    "    objects_info[\"points\"].append(gdf)\n",
    "\n",
    "\n",
    "for idx, (geojsons_with_line, geojsons_with_polygon) in enumerate(zip(geojsons_with_lines, geojsons_with_polygons)):\n",
    "    # Обрабатываем дороги\n",
    "    gdf = gpd.read_file(f\"./data/vector_data/{geojsons_with_line}\") \n",
    "    gdf[\"geometry\"] = gdf[\"geometry\"].to_crs(\"EPSG:4326\")\n",
    "    gdf = filter_points_based_on_specified_region(gdf, region)\n",
    "    graphs[f\"L{idx+1}\"] = convert_geojsons_with_lines_to_graph(gdf)\n",
    "    objects_info[\"lines\"].append(gdf)\n",
    "\n",
    "    # Обрабатываем строения\n",
    "    gdf = gpd.read_file(f\"./data/vector_data/{geojsons_with_polygon}\") \n",
    "    gdf[\"geometry\"] = gdf[\"geometry\"].to_crs(\"EPSG:4326\")\n",
    "    gdf = convert_polygons_to_centroids(gdf)\n",
    "    gdf = filter_points_based_on_specified_region(gdf, region)\n",
    "    graphs[f\"P{idx+1}\"] = convert_geojsons_with_polygons_and_points_to_graph(gdf)\n",
    "    objects_info[\"polygons\"].append(gdf[\"polygons\"])\n",
    "\n",
    "result_graph = nx.union_all(graphs.values(), rename=graphs.keys())"
   ]
  }
 ],
 "metadata": {
  "kernelspec": {
   "display_name": "env",
   "language": "python",
   "name": "python3"
  },
  "language_info": {
   "codemirror_mode": {
    "name": "ipython",
    "version": 3
   },
   "file_extension": ".py",
   "mimetype": "text/x-python",
   "name": "python",
   "nbconvert_exporter": "python",
   "pygments_lexer": "ipython3",
   "version": "3.11.7"
  }
 },
 "nbformat": 4,
 "nbformat_minor": 2
}
