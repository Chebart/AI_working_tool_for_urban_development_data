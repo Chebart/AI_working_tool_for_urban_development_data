{
 "cells": [
  {
   "cell_type": "code",
   "id": "246c17594d6b6830",
   "metadata": {
    "ExecuteTime": {
     "end_time": "2024-11-10T03:03:07.704270Z",
     "start_time": "2024-11-10T03:03:07.311023Z"
    }
   },
   "source": [
    "import requests\n",
    "import json\n",
    "\n",
    "# Define the API base URL\n",
    "BASE_URL = \"http://localhost:9000\"\n",
    "\n",
    "from backend.file_parser import get_version_folder, DATA_PATH"
   ],
   "outputs": [
    {
     "name": "stdout",
     "output_type": "stream",
     "text": [
      "BASE_PATH:  .. ; children:  [PosixPath('../.DS_Store'), PosixPath('../requirements.txt'), PosixPath('../people_parser.ipynb'), PosixPath('../AI_working_tool_for_urban_development_data'), PosixPath('../recall'), PosixPath('../sample.ipynb'), PosixPath('../graphs_hackathon'), PosixPath('../baselines'), PosixPath('../arcf-effnet.ipynb'), PosixPath('../.idea')]\n"
     ]
    }
   ],
   "execution_count": 1
  },
  {
   "metadata": {
    "ExecuteTime": {
     "end_time": "2024-11-10T03:33:27.515665Z",
     "start_time": "2024-11-10T03:33:27.505023Z"
    }
   },
   "cell_type": "code",
   "source": [
    "\n",
    "# Load your original GeoJSON from a file (optional)\n",
    "# with open(\"gjson_dataset/House_1очередь_ЖК.geojson\", \"r\") as file:\n",
    "with open(\"data/0/residence_layer.geojson\", \"r\") as file:\n",
    "    geojson_data = json.load(file)\n",
    "\n",
    "def test_get_layer(layer_type, version):\n",
    "    url = f\"{BASE_URL}/get_layer/{layer_type}/{version}\"\n",
    "    response = requests.get(url)\n",
    "    if response.status_code == 200:\n",
    "        print(\"GET Layer Success:\", response.json())\n",
    "    else:\n",
    "        print(\"GET Layer Error:\", response.status_code, response.text)\n",
    "\n",
    "# 2. Test creating a new version\n",
    "def test_new_version(layer_type, geojson_data):\n",
    "    url = f\"{BASE_URL}/new_version/{layer_type}\"\n",
    "    headers = {\"Content-Type\": \"application/json\"}\n",
    "    response = requests.post(url, data=json.dumps(geojson_data), headers=headers)\n",
    "    if response.status_code == 200:\n",
    "        print(\"POST New Version Success:\", response.json())\n",
    "    else:\n",
    "        print(\"POST New Version Error:\", response.status_code, response.text)\n",
    "\n",
    "# 3. Test fetching available versions\n",
    "def test_get_available_versions():\n",
    "    url = f\"{BASE_URL}/get_available_versions\"\n",
    "    response = requests.get(url)\n",
    "    if response.status_code == 200:\n",
    "        print(\"GET Available Versions Success:\", response.json())\n",
    "    else:\n",
    "        print(\"GET Available Versions Error:\", response.status_code, response.text)\n"
   ],
   "id": "103da5f98ace9843",
   "outputs": [],
   "execution_count": 5
  },
  {
   "metadata": {
    "ExecuteTime": {
     "end_time": "2024-11-10T03:33:39.053786Z",
     "start_time": "2024-11-10T03:33:28.757090Z"
    }
   },
   "cell_type": "code",
   "source": [
    "\n",
    "# Run tests\n",
    "layer_type = \"residence\"\n",
    "test_new_version(layer_type, geojson_data)"
   ],
   "id": "b87e0008aa0c0a4f",
   "outputs": [
    {
     "name": "stdout",
     "output_type": "stream",
     "text": [
      "POST New Version Success: {'success': True, 'version': 2}\n"
     ]
    }
   ],
   "execution_count": 6
  },
  {
   "metadata": {
    "collapsed": true,
    "ExecuteTime": {
     "end_time": "2024-11-10T02:20:00.138403Z",
     "start_time": "2024-11-10T02:20:00.125020Z"
    }
   },
   "cell_type": "code",
   "source": [
    "test_get_available_versions()\n",
    "test_get_layer(layer_type, 1)  # Adjust version as needed"
   ],
   "id": "initial_id",
   "outputs": [
    {
     "name": "stdout",
     "output_type": "stream",
     "text": [
      "GET Available Versions Success: {'success': True, 'versions': [0, 1]}\n",
      "GET Layer Error: 404 {\"detail\":\"GeoJSON file not found for layer 'residence' and version '1'\"}\n"
     ]
    }
   ],
   "execution_count": 42
  },
  {
   "metadata": {},
   "cell_type": "code",
   "outputs": [],
   "execution_count": null,
   "source": "",
   "id": "d977c16b6a8c0c0"
  }
 ],
 "metadata": {
  "kernelspec": {
   "display_name": "Python 3",
   "language": "python",
   "name": "python3"
  },
  "language_info": {
   "codemirror_mode": {
    "name": "ipython",
    "version": 2
   },
   "file_extension": ".py",
   "mimetype": "text/x-python",
   "name": "python",
   "nbconvert_exporter": "python",
   "pygments_lexer": "ipython2",
   "version": "2.7.6"
  }
 },
 "nbformat": 4,
 "nbformat_minor": 5
}
